{
 "cells": [
  {
   "attachments": {},
   "cell_type": "markdown",
   "metadata": {},
   "source": [
    "# Drawing Conclusions Quiz\n",
    "Use the space below to explore `store_data.csv` to answer the quiz questions below."
   ]
  },
  {
   "cell_type": "code",
   "execution_count": 35,
   "metadata": {},
   "outputs": [
    {
     "name": "stdout",
     "output_type": "stream",
     "text": [
      "The column with the highest sum is storeA\n"
     ]
    }
   ],
   "source": [
    "# Which store has the highest total sales for the final month of data?     A\n",
    "# Which store makes the most sales on average?    A \n",
    "# Which store sells the most during the week of March 13th, 2016?   D\n",
    "# In what week does store C make its worst sales?       7 \n",
    "# Which store has the most sales in the latest 3-month period?   A\n",
    "# What is the most consistent store in sales ? storeD \n",
    "# Given the information you gathered, what do you think is the best store financially? storeB\n",
    "\n",
    "\n",
    "\n",
    "\n",
    "\n"
   ]
  },
  {
   "cell_type": "code",
   "execution_count": null,
   "metadata": {},
   "outputs": [],
   "source": [
    "# import and load the data\n",
    "import pandas as pd\n",
    "df = pd.read_csv('store_data.csv')"
   ]
  },
  {
   "cell_type": "code",
   "execution_count": 36,
   "metadata": {},
   "outputs": [
    {
     "name": "stdout",
     "output_type": "stream",
     "text": [
      "<class 'pandas.core.frame.DataFrame'>\n",
      "RangeIndex: 200 entries, 0 to 199\n",
      "Data columns (total 6 columns):\n",
      " #   Column  Non-Null Count  Dtype         \n",
      "---  ------  --------------  -----         \n",
      " 0   week    200 non-null    datetime64[ns]\n",
      " 1   storeA  200 non-null    int64         \n",
      " 2   storeB  200 non-null    int64         \n",
      " 3   storeC  200 non-null    int64         \n",
      " 4   storeD  200 non-null    int64         \n",
      " 5   storeE  200 non-null    int64         \n",
      "dtypes: datetime64[ns](1), int64(5)\n",
      "memory usage: 9.5 KB\n"
     ]
    }
   ],
   "source": [
    "# explore the data (gather as much information as you can)d\n",
    "df.info()"
   ]
  },
  {
   "cell_type": "code",
   "execution_count": 40,
   "metadata": {},
   "outputs": [],
   "source": [
    "# clean the data\n",
    "print(df.isna().sum())\n",
    "print(df.duplicated().sum())\n",
    "df = df.dropna()"
   ]
  },
  {
   "cell_type": "code",
   "execution_count": 63,
   "metadata": {},
   "outputs": [
    {
     "data": {
      "text/plain": [
       "storeA    40688\n",
       "storeB    29151\n",
       "storeC    30198\n",
       "storeD    28422\n",
       "storeE     8509\n",
       "dtype: int64"
      ]
     },
     "execution_count": 63,
     "metadata": {},
     "output_type": "execute_result"
    }
   ],
   "source": [
    "# total sales for the last month\n",
    "df['week'] = pd.to_datetime(df['week'])\n",
    "data = df[df['week'].dt.month == df['week'].dt.month.max()]\n",
    "final_month = data[data['week'].dt.year == data['week'].dt.year.max()].drop('week',axis=1)\n",
    "final_month.sum()"
   ]
  },
  {
   "cell_type": "code",
   "execution_count": 42,
   "metadata": {},
   "outputs": [
    {
     "data": {
      "text/plain": [
       "storeA    8137.6\n",
       "storeB    5830.2\n",
       "storeC    6039.6\n",
       "storeD    5684.4\n",
       "storeE    1701.8\n",
       "dtype: float64"
      ]
     },
     "execution_count": 42,
     "metadata": {},
     "output_type": "execute_result"
    }
   ],
   "source": [
    "# average sales\n",
    "final_month.mean()"
   ]
  },
  {
   "cell_type": "code",
   "execution_count": 51,
   "metadata": {},
   "outputs": [
    {
     "name": "stdout",
     "output_type": "stream",
     "text": [
      "         week  storeA  storeB  storeC  storeD  storeE\n",
      "97 2016-03-13    2054    1390    5112    5513    2536\n"
     ]
    }
   ],
   "source": [
    "# sales on march 13, 2016\n",
    "\n",
    "\n",
    "\n",
    "\n",
    "sales_on_date = df[df['week'] == '2016-03-13']\n",
    "print(sales_on_date)"
   ]
  },
  {
   "cell_type": "code",
   "execution_count": 54,
   "metadata": {},
   "outputs": [
    {
     "data": {
      "text/plain": [
       "week      2014-07-06 00:00:00\n",
       "storeA                   8567\n",
       "storeB                   3228\n",
       "storeC                    927\n",
       "storeD                   3277\n",
       "storeE                    168\n",
       "Name: 9, dtype: object"
      ]
     },
     "execution_count": 54,
     "metadata": {},
     "output_type": "execute_result"
    }
   ],
   "source": [
    "# worst week for store C\n",
    "worst_week = df.sort_values(by='storeC').iloc[0]\n",
    "worst_week"
   ]
  },
  {
   "cell_type": "code",
   "execution_count": 73,
   "metadata": {
    "scrolled": false
   },
   "outputs": [
    {
     "data": {
      "text/plain": [
       "storeA    94457\n",
       "storeB    84405\n",
       "storeC    71939\n",
       "storeD    79926\n",
       "storeE    30566\n",
       "dtype: int64"
      ]
     },
     "execution_count": 73,
     "metadata": {},
     "output_type": "execute_result"
    }
   ],
   "source": [
    "# total sales during most recent 3 month period\n",
    "# three_months_ago = pd.Timestamp.now() - pd.DateOffset(months=3)\n",
    "latest_date = df.sort_values(by='week', ascending=False).iloc[0]['week']\n",
    "three_months_ago = latest_date - pd.DateOffset(months=3)\n",
    "\n",
    "# filter the data to include only the most recent 3 months\n",
    "recent_sales_data = df[df['week'] >= three_months_ago]\n",
    "recent_sales_data.drop('week',axis=1).sum()\n"
   ]
  },
  {
   "cell_type": "code",
   "execution_count": 75,
   "metadata": {},
   "outputs": [
    {
     "name": "stdout",
     "output_type": "stream",
     "text": [
      "storeD\n"
     ]
    }
   ],
   "source": [
    "# Go back to the top and answer the questions\n",
    "std_sales = df.drop('week', axis=1).std()\n",
    "std_sales = df.drop('week', axis=1).std()\n",
    "most_consistent_store = std_sales.idxmin()\n",
    "print(most_consistent_store)"
   ]
  },
  {
   "cell_type": "code",
   "execution_count": 92,
   "metadata": {},
   "outputs": [
    {
     "data": {
      "text/plain": [
       "'storeB'"
      ]
     },
     "execution_count": 92,
     "metadata": {},
     "output_type": "execute_result"
    }
   ],
   "source": [
    "total_sales = df.drop('week',axis=1).sum()\n",
    "average_sales = df.mean()\n",
    "\n",
    "best_total_sales_store = total_sales.idxmax()\n",
    "best_total_sales_store\n"
   ]
  }
 ],
 "metadata": {
  "kernelspec": {
   "display_name": "Python 3 (ipykernel)",
   "language": "python",
   "name": "python3"
  },
  "language_info": {
   "codemirror_mode": {
    "name": "ipython",
    "version": 3
   },
   "file_extension": ".py",
   "mimetype": "text/x-python",
   "name": "python",
   "nbconvert_exporter": "python",
   "pygments_lexer": "ipython3",
   "version": "3.10.7"
  }
 },
 "nbformat": 4,
 "nbformat_minor": 2
}
